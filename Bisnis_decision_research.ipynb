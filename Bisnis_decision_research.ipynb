{
  "nbformat": 4,
  "nbformat_minor": 0,
  "metadata": {
    "colab": {
      "provenance": []
    },
    "kernelspec": {
      "name": "python3",
      "display_name": "Python 3"
    },
    "language_info": {
      "name": "python"
    },
    "gpuClass": "standard",
    "accelerator": "GPU"
  },
  "cells": [
    {
      "cell_type": "code",
      "execution_count": 59,
      "metadata": {
        "id": "MFQnFbVzYJ59"
      },
      "outputs": [],
      "source": [
        "import pandas as pd\n",
        "\n",
        "df = pd.read_csv('https://storage.googleapis.com/dqlab-dataset/data_retail.csv', sep=';')"
      ]
    },
    {
      "cell_type": "code",
      "source": [
        "print('Lima data teratas:')\n",
        "print(df.head())\n",
        "\n",
        "print('\\nInfo dataset:')\n",
        "print(df.info())"
      ],
      "metadata": {
        "colab": {
          "base_uri": "https://localhost:8080/"
        },
        "id": "75Ww3splZHVM",
        "outputId": "664e1af7-cc18-46fa-da59-f47f19392b7b"
      },
      "execution_count": 60,
      "outputs": [
        {
          "output_type": "stream",
          "name": "stdout",
          "text": [
            "Lima data teratas:\n",
            "   no  Row_Num  Customer_ID Product  First_Transaction  Last_Transaction  \\\n",
            "0   1        1        29531   Jaket      1466304274396     1538718482608   \n",
            "1   2        2        29531  Sepatu      1406077331494     1545735761270   \n",
            "2   3        3       141526     Tas      1493349147000     1548322802000   \n",
            "3   4        4       141526   Jaket      1493362372547     1547643603911   \n",
            "4   5        5        37545  Sepatu      1429178498531     1542891221530   \n",
            "\n",
            "   Average_Transaction_Amount  Count_Transaction  \n",
            "0                     1467681                 22  \n",
            "1                     1269337                 41  \n",
            "2                      310915                 30  \n",
            "3                      722632                 27  \n",
            "4                     1775036                 25  \n",
            "\n",
            "Info dataset:\n",
            "<class 'pandas.core.frame.DataFrame'>\n",
            "RangeIndex: 100000 entries, 0 to 99999\n",
            "Data columns (total 8 columns):\n",
            " #   Column                      Non-Null Count   Dtype \n",
            "---  ------                      --------------   ----- \n",
            " 0   no                          100000 non-null  int64 \n",
            " 1   Row_Num                     100000 non-null  int64 \n",
            " 2   Customer_ID                 100000 non-null  int64 \n",
            " 3   Product                     100000 non-null  object\n",
            " 4   First_Transaction           100000 non-null  int64 \n",
            " 5   Last_Transaction            100000 non-null  int64 \n",
            " 6   Average_Transaction_Amount  100000 non-null  int64 \n",
            " 7   Count_Transaction           100000 non-null  int64 \n",
            "dtypes: int64(7), object(1)\n",
            "memory usage: 6.1+ MB\n",
            "None\n"
          ]
        }
      ]
    },
    {
      "cell_type": "code",
      "source": [
        "# Kolom First_Transaction\n",
        "df['First_Transaction'] = pd.to_datetime(df['First_Transaction']/1000, unit='s', origin='1970-01-01')\n",
        "# Kolom Last_Transaction\n",
        "df['Last_Transaction'] = pd.to_datetime(df['Last_Transaction']/1000, unit='s', origin='1970-01-01')\n",
        "\n",
        "print('Lima data teratas:')\n",
        "print(df.head())\n",
        "\n",
        "print('\\nInfo dataset:')\n",
        "print(df.info())"
      ],
      "metadata": {
        "colab": {
          "base_uri": "https://localhost:8080/"
        },
        "id": "yN5kN7R2ZIbR",
        "outputId": "de271277-cb72-4a2f-c2d9-196c415f9a0c"
      },
      "execution_count": 61,
      "outputs": [
        {
          "output_type": "stream",
          "name": "stdout",
          "text": [
            "Lima data teratas:\n",
            "   no  Row_Num  Customer_ID Product             First_Transaction  \\\n",
            "0   1        1        29531   Jaket 2016-06-19 02:44:34.396000000   \n",
            "1   2        2        29531  Sepatu 2014-07-23 01:02:11.493999872   \n",
            "2   3        3       141526     Tas 2017-04-28 03:12:27.000000000   \n",
            "3   4        4       141526   Jaket 2017-04-28 06:52:52.546999808   \n",
            "4   5        5        37545  Sepatu 2015-04-16 10:01:38.530999808   \n",
            "\n",
            "               Last_Transaction  Average_Transaction_Amount  Count_Transaction  \n",
            "0 2018-10-05 05:48:02.608000000                     1467681                 22  \n",
            "1 2018-12-25 11:02:41.269999872                     1269337                 41  \n",
            "2 2019-01-24 09:40:02.000000000                      310915                 30  \n",
            "3 2019-01-16 13:00:03.911000064                      722632                 27  \n",
            "4 2018-11-22 12:53:41.529999872                     1775036                 25  \n",
            "\n",
            "Info dataset:\n",
            "<class 'pandas.core.frame.DataFrame'>\n",
            "RangeIndex: 100000 entries, 0 to 99999\n",
            "Data columns (total 8 columns):\n",
            " #   Column                      Non-Null Count   Dtype         \n",
            "---  ------                      --------------   -----         \n",
            " 0   no                          100000 non-null  int64         \n",
            " 1   Row_Num                     100000 non-null  int64         \n",
            " 2   Customer_ID                 100000 non-null  int64         \n",
            " 3   Product                     100000 non-null  object        \n",
            " 4   First_Transaction           100000 non-null  datetime64[ns]\n",
            " 5   Last_Transaction            100000 non-null  datetime64[ns]\n",
            " 6   Average_Transaction_Amount  100000 non-null  int64         \n",
            " 7   Count_Transaction           100000 non-null  int64         \n",
            "dtypes: datetime64[ns](2), int64(5), object(1)\n",
            "memory usage: 6.1+ MB\n",
            "None\n"
          ]
        }
      ]
    },
    {
      "cell_type": "markdown",
      "source": [
        "# churn customers"
      ],
      "metadata": {
        "id": "N385sYWLdRe3"
      }
    },
    {
      "cell_type": "code",
      "source": [
        "df['Last_Transaction'].max()"
      ],
      "metadata": {
        "colab": {
          "base_uri": "https://localhost:8080/"
        },
        "id": "qpVeSk3JZrix",
        "outputId": "d381df9d-069e-42c7-d242-c5123499086e"
      },
      "execution_count": 62,
      "outputs": [
        {
          "output_type": "execute_result",
          "data": {
            "text/plain": [
              "Timestamp('2019-02-01 23:57:57.286000128')"
            ]
          },
          "metadata": {},
          "execution_count": 62
        }
      ]
    },
    {
      "cell_type": "code",
      "source": [
        "df.loc[df['Last_Transaction'] <= '2018-08-01', 'is_churn'] = True\n",
        "df.loc[df['Last_Transaction'] > '2018-08-01', 'is_churn'] = False"
      ],
      "metadata": {
        "id": "fctLHiHraznA"
      },
      "execution_count": 63,
      "outputs": []
    },
    {
      "cell_type": "code",
      "source": [
        "df[df['is_churn'] == True].head()"
      ],
      "metadata": {
        "colab": {
          "base_uri": "https://localhost:8080/",
          "height": 206
        },
        "id": "392vmxz8dBAi",
        "outputId": "83b6b44f-de45-4c43-d304-7d211f19e052"
      },
      "execution_count": 64,
      "outputs": [
        {
          "output_type": "execute_result",
          "data": {
            "text/plain": [
              "    no  Row_Num  Customer_ID Product             First_Transaction  \\\n",
              "10  11       11        25436  Sepatu 2014-02-10 04:19:29.556999936   \n",
              "11  12       12        35111  Sepatu 2014-12-02 03:12:43.624000000   \n",
              "14  15       15       146582   Jaket 2017-05-16 05:21:01.178999808   \n",
              "25  26       26        40931  Sepatu 2016-01-29 07:26:35.066999808   \n",
              "32  33       33        91757  Sepatu 2016-08-15 05:03:03.959000064   \n",
              "\n",
              "                Last_Transaction  Average_Transaction_Amount  \\\n",
              "10 2017-07-10 13:06:00.290999808                     1037207   \n",
              "11 2018-03-07 06:17:54.549999872                      669514   \n",
              "14 2018-07-17 04:49:05.665999872                      298824   \n",
              "25 2018-05-25 11:53:37.568000000                     3473946   \n",
              "32 2017-05-08 07:20:47.756999936                      918079   \n",
              "\n",
              "    Count_Transaction is_churn  \n",
              "10                 21     True  \n",
              "11                 27     True  \n",
              "14                 22     True  \n",
              "25                 25     True  \n",
              "32                 32     True  "
            ],
            "text/html": [
              "\n",
              "  <div id=\"df-5da682e3-13d3-4101-9940-0f232bee5ccd\">\n",
              "    <div class=\"colab-df-container\">\n",
              "      <div>\n",
              "<style scoped>\n",
              "    .dataframe tbody tr th:only-of-type {\n",
              "        vertical-align: middle;\n",
              "    }\n",
              "\n",
              "    .dataframe tbody tr th {\n",
              "        vertical-align: top;\n",
              "    }\n",
              "\n",
              "    .dataframe thead th {\n",
              "        text-align: right;\n",
              "    }\n",
              "</style>\n",
              "<table border=\"1\" class=\"dataframe\">\n",
              "  <thead>\n",
              "    <tr style=\"text-align: right;\">\n",
              "      <th></th>\n",
              "      <th>no</th>\n",
              "      <th>Row_Num</th>\n",
              "      <th>Customer_ID</th>\n",
              "      <th>Product</th>\n",
              "      <th>First_Transaction</th>\n",
              "      <th>Last_Transaction</th>\n",
              "      <th>Average_Transaction_Amount</th>\n",
              "      <th>Count_Transaction</th>\n",
              "      <th>is_churn</th>\n",
              "    </tr>\n",
              "  </thead>\n",
              "  <tbody>\n",
              "    <tr>\n",
              "      <th>10</th>\n",
              "      <td>11</td>\n",
              "      <td>11</td>\n",
              "      <td>25436</td>\n",
              "      <td>Sepatu</td>\n",
              "      <td>2014-02-10 04:19:29.556999936</td>\n",
              "      <td>2017-07-10 13:06:00.290999808</td>\n",
              "      <td>1037207</td>\n",
              "      <td>21</td>\n",
              "      <td>True</td>\n",
              "    </tr>\n",
              "    <tr>\n",
              "      <th>11</th>\n",
              "      <td>12</td>\n",
              "      <td>12</td>\n",
              "      <td>35111</td>\n",
              "      <td>Sepatu</td>\n",
              "      <td>2014-12-02 03:12:43.624000000</td>\n",
              "      <td>2018-03-07 06:17:54.549999872</td>\n",
              "      <td>669514</td>\n",
              "      <td>27</td>\n",
              "      <td>True</td>\n",
              "    </tr>\n",
              "    <tr>\n",
              "      <th>14</th>\n",
              "      <td>15</td>\n",
              "      <td>15</td>\n",
              "      <td>146582</td>\n",
              "      <td>Jaket</td>\n",
              "      <td>2017-05-16 05:21:01.178999808</td>\n",
              "      <td>2018-07-17 04:49:05.665999872</td>\n",
              "      <td>298824</td>\n",
              "      <td>22</td>\n",
              "      <td>True</td>\n",
              "    </tr>\n",
              "    <tr>\n",
              "      <th>25</th>\n",
              "      <td>26</td>\n",
              "      <td>26</td>\n",
              "      <td>40931</td>\n",
              "      <td>Sepatu</td>\n",
              "      <td>2016-01-29 07:26:35.066999808</td>\n",
              "      <td>2018-05-25 11:53:37.568000000</td>\n",
              "      <td>3473946</td>\n",
              "      <td>25</td>\n",
              "      <td>True</td>\n",
              "    </tr>\n",
              "    <tr>\n",
              "      <th>32</th>\n",
              "      <td>33</td>\n",
              "      <td>33</td>\n",
              "      <td>91757</td>\n",
              "      <td>Sepatu</td>\n",
              "      <td>2016-08-15 05:03:03.959000064</td>\n",
              "      <td>2017-05-08 07:20:47.756999936</td>\n",
              "      <td>918079</td>\n",
              "      <td>32</td>\n",
              "      <td>True</td>\n",
              "    </tr>\n",
              "  </tbody>\n",
              "</table>\n",
              "</div>\n",
              "      <button class=\"colab-df-convert\" onclick=\"convertToInteractive('df-5da682e3-13d3-4101-9940-0f232bee5ccd')\"\n",
              "              title=\"Convert this dataframe to an interactive table.\"\n",
              "              style=\"display:none;\">\n",
              "        \n",
              "  <svg xmlns=\"http://www.w3.org/2000/svg\" height=\"24px\"viewBox=\"0 0 24 24\"\n",
              "       width=\"24px\">\n",
              "    <path d=\"M0 0h24v24H0V0z\" fill=\"none\"/>\n",
              "    <path d=\"M18.56 5.44l.94 2.06.94-2.06 2.06-.94-2.06-.94-.94-2.06-.94 2.06-2.06.94zm-11 1L8.5 8.5l.94-2.06 2.06-.94-2.06-.94L8.5 2.5l-.94 2.06-2.06.94zm10 10l.94 2.06.94-2.06 2.06-.94-2.06-.94-.94-2.06-.94 2.06-2.06.94z\"/><path d=\"M17.41 7.96l-1.37-1.37c-.4-.4-.92-.59-1.43-.59-.52 0-1.04.2-1.43.59L10.3 9.45l-7.72 7.72c-.78.78-.78 2.05 0 2.83L4 21.41c.39.39.9.59 1.41.59.51 0 1.02-.2 1.41-.59l7.78-7.78 2.81-2.81c.8-.78.8-2.07 0-2.86zM5.41 20L4 18.59l7.72-7.72 1.47 1.35L5.41 20z\"/>\n",
              "  </svg>\n",
              "      </button>\n",
              "      \n",
              "  <style>\n",
              "    .colab-df-container {\n",
              "      display:flex;\n",
              "      flex-wrap:wrap;\n",
              "      gap: 12px;\n",
              "    }\n",
              "\n",
              "    .colab-df-convert {\n",
              "      background-color: #E8F0FE;\n",
              "      border: none;\n",
              "      border-radius: 50%;\n",
              "      cursor: pointer;\n",
              "      display: none;\n",
              "      fill: #1967D2;\n",
              "      height: 32px;\n",
              "      padding: 0 0 0 0;\n",
              "      width: 32px;\n",
              "    }\n",
              "\n",
              "    .colab-df-convert:hover {\n",
              "      background-color: #E2EBFA;\n",
              "      box-shadow: 0px 1px 2px rgba(60, 64, 67, 0.3), 0px 1px 3px 1px rgba(60, 64, 67, 0.15);\n",
              "      fill: #174EA6;\n",
              "    }\n",
              "\n",
              "    [theme=dark] .colab-df-convert {\n",
              "      background-color: #3B4455;\n",
              "      fill: #D2E3FC;\n",
              "    }\n",
              "\n",
              "    [theme=dark] .colab-df-convert:hover {\n",
              "      background-color: #434B5C;\n",
              "      box-shadow: 0px 1px 3px 1px rgba(0, 0, 0, 0.15);\n",
              "      filter: drop-shadow(0px 1px 2px rgba(0, 0, 0, 0.3));\n",
              "      fill: #FFFFFF;\n",
              "    }\n",
              "  </style>\n",
              "\n",
              "      <script>\n",
              "        const buttonEl =\n",
              "          document.querySelector('#df-5da682e3-13d3-4101-9940-0f232bee5ccd button.colab-df-convert');\n",
              "        buttonEl.style.display =\n",
              "          google.colab.kernel.accessAllowed ? 'block' : 'none';\n",
              "\n",
              "        async function convertToInteractive(key) {\n",
              "          const element = document.querySelector('#df-5da682e3-13d3-4101-9940-0f232bee5ccd');\n",
              "          const dataTable =\n",
              "            await google.colab.kernel.invokeFunction('convertToInteractive',\n",
              "                                                     [key], {});\n",
              "          if (!dataTable) return;\n",
              "\n",
              "          const docLinkHtml = 'Like what you see? Visit the ' +\n",
              "            '<a target=\"_blank\" href=https://colab.research.google.com/notebooks/data_table.ipynb>data table notebook</a>'\n",
              "            + ' to learn more about interactive tables.';\n",
              "          element.innerHTML = '';\n",
              "          dataTable['output_type'] = 'display_data';\n",
              "          await google.colab.output.renderOutput(dataTable, element);\n",
              "          const docLink = document.createElement('div');\n",
              "          docLink.innerHTML = docLinkHtml;\n",
              "          element.appendChild(docLink);\n",
              "        }\n",
              "      </script>\n",
              "    </div>\n",
              "  </div>\n",
              "  "
            ]
          },
          "metadata": {},
          "execution_count": 64
        }
      ]
    },
    {
      "cell_type": "markdown",
      "source": [
        "# menghapus kolom yang tidak dibutuhkan"
      ],
      "metadata": {
        "id": "SqyiECULdCHC"
      }
    },
    {
      "cell_type": "code",
      "source": [
        "# del df['no']\n",
        "# del df['Row_Num']\n",
        "\n",
        "df.drop(columns=['no', 'Row_Num'], inplace=True)\n",
        "df.head()"
      ],
      "metadata": {
        "colab": {
          "base_uri": "https://localhost:8080/",
          "height": 206
        },
        "id": "JQWpNFord9g4",
        "outputId": "77c8e633-5df9-43c5-abff-0ae2b492b923"
      },
      "execution_count": 65,
      "outputs": [
        {
          "output_type": "execute_result",
          "data": {
            "text/plain": [
              "   Customer_ID Product             First_Transaction  \\\n",
              "0        29531   Jaket 2016-06-19 02:44:34.396000000   \n",
              "1        29531  Sepatu 2014-07-23 01:02:11.493999872   \n",
              "2       141526     Tas 2017-04-28 03:12:27.000000000   \n",
              "3       141526   Jaket 2017-04-28 06:52:52.546999808   \n",
              "4        37545  Sepatu 2015-04-16 10:01:38.530999808   \n",
              "\n",
              "               Last_Transaction  Average_Transaction_Amount  \\\n",
              "0 2018-10-05 05:48:02.608000000                     1467681   \n",
              "1 2018-12-25 11:02:41.269999872                     1269337   \n",
              "2 2019-01-24 09:40:02.000000000                      310915   \n",
              "3 2019-01-16 13:00:03.911000064                      722632   \n",
              "4 2018-11-22 12:53:41.529999872                     1775036   \n",
              "\n",
              "   Count_Transaction is_churn  \n",
              "0                 22    False  \n",
              "1                 41    False  \n",
              "2                 30    False  \n",
              "3                 27    False  \n",
              "4                 25    False  "
            ],
            "text/html": [
              "\n",
              "  <div id=\"df-9b9d24c5-ba57-476d-a12f-829555a2e070\">\n",
              "    <div class=\"colab-df-container\">\n",
              "      <div>\n",
              "<style scoped>\n",
              "    .dataframe tbody tr th:only-of-type {\n",
              "        vertical-align: middle;\n",
              "    }\n",
              "\n",
              "    .dataframe tbody tr th {\n",
              "        vertical-align: top;\n",
              "    }\n",
              "\n",
              "    .dataframe thead th {\n",
              "        text-align: right;\n",
              "    }\n",
              "</style>\n",
              "<table border=\"1\" class=\"dataframe\">\n",
              "  <thead>\n",
              "    <tr style=\"text-align: right;\">\n",
              "      <th></th>\n",
              "      <th>Customer_ID</th>\n",
              "      <th>Product</th>\n",
              "      <th>First_Transaction</th>\n",
              "      <th>Last_Transaction</th>\n",
              "      <th>Average_Transaction_Amount</th>\n",
              "      <th>Count_Transaction</th>\n",
              "      <th>is_churn</th>\n",
              "    </tr>\n",
              "  </thead>\n",
              "  <tbody>\n",
              "    <tr>\n",
              "      <th>0</th>\n",
              "      <td>29531</td>\n",
              "      <td>Jaket</td>\n",
              "      <td>2016-06-19 02:44:34.396000000</td>\n",
              "      <td>2018-10-05 05:48:02.608000000</td>\n",
              "      <td>1467681</td>\n",
              "      <td>22</td>\n",
              "      <td>False</td>\n",
              "    </tr>\n",
              "    <tr>\n",
              "      <th>1</th>\n",
              "      <td>29531</td>\n",
              "      <td>Sepatu</td>\n",
              "      <td>2014-07-23 01:02:11.493999872</td>\n",
              "      <td>2018-12-25 11:02:41.269999872</td>\n",
              "      <td>1269337</td>\n",
              "      <td>41</td>\n",
              "      <td>False</td>\n",
              "    </tr>\n",
              "    <tr>\n",
              "      <th>2</th>\n",
              "      <td>141526</td>\n",
              "      <td>Tas</td>\n",
              "      <td>2017-04-28 03:12:27.000000000</td>\n",
              "      <td>2019-01-24 09:40:02.000000000</td>\n",
              "      <td>310915</td>\n",
              "      <td>30</td>\n",
              "      <td>False</td>\n",
              "    </tr>\n",
              "    <tr>\n",
              "      <th>3</th>\n",
              "      <td>141526</td>\n",
              "      <td>Jaket</td>\n",
              "      <td>2017-04-28 06:52:52.546999808</td>\n",
              "      <td>2019-01-16 13:00:03.911000064</td>\n",
              "      <td>722632</td>\n",
              "      <td>27</td>\n",
              "      <td>False</td>\n",
              "    </tr>\n",
              "    <tr>\n",
              "      <th>4</th>\n",
              "      <td>37545</td>\n",
              "      <td>Sepatu</td>\n",
              "      <td>2015-04-16 10:01:38.530999808</td>\n",
              "      <td>2018-11-22 12:53:41.529999872</td>\n",
              "      <td>1775036</td>\n",
              "      <td>25</td>\n",
              "      <td>False</td>\n",
              "    </tr>\n",
              "  </tbody>\n",
              "</table>\n",
              "</div>\n",
              "      <button class=\"colab-df-convert\" onclick=\"convertToInteractive('df-9b9d24c5-ba57-476d-a12f-829555a2e070')\"\n",
              "              title=\"Convert this dataframe to an interactive table.\"\n",
              "              style=\"display:none;\">\n",
              "        \n",
              "  <svg xmlns=\"http://www.w3.org/2000/svg\" height=\"24px\"viewBox=\"0 0 24 24\"\n",
              "       width=\"24px\">\n",
              "    <path d=\"M0 0h24v24H0V0z\" fill=\"none\"/>\n",
              "    <path d=\"M18.56 5.44l.94 2.06.94-2.06 2.06-.94-2.06-.94-.94-2.06-.94 2.06-2.06.94zm-11 1L8.5 8.5l.94-2.06 2.06-.94-2.06-.94L8.5 2.5l-.94 2.06-2.06.94zm10 10l.94 2.06.94-2.06 2.06-.94-2.06-.94-.94-2.06-.94 2.06-2.06.94z\"/><path d=\"M17.41 7.96l-1.37-1.37c-.4-.4-.92-.59-1.43-.59-.52 0-1.04.2-1.43.59L10.3 9.45l-7.72 7.72c-.78.78-.78 2.05 0 2.83L4 21.41c.39.39.9.59 1.41.59.51 0 1.02-.2 1.41-.59l7.78-7.78 2.81-2.81c.8-.78.8-2.07 0-2.86zM5.41 20L4 18.59l7.72-7.72 1.47 1.35L5.41 20z\"/>\n",
              "  </svg>\n",
              "      </button>\n",
              "      \n",
              "  <style>\n",
              "    .colab-df-container {\n",
              "      display:flex;\n",
              "      flex-wrap:wrap;\n",
              "      gap: 12px;\n",
              "    }\n",
              "\n",
              "    .colab-df-convert {\n",
              "      background-color: #E8F0FE;\n",
              "      border: none;\n",
              "      border-radius: 50%;\n",
              "      cursor: pointer;\n",
              "      display: none;\n",
              "      fill: #1967D2;\n",
              "      height: 32px;\n",
              "      padding: 0 0 0 0;\n",
              "      width: 32px;\n",
              "    }\n",
              "\n",
              "    .colab-df-convert:hover {\n",
              "      background-color: #E2EBFA;\n",
              "      box-shadow: 0px 1px 2px rgba(60, 64, 67, 0.3), 0px 1px 3px 1px rgba(60, 64, 67, 0.15);\n",
              "      fill: #174EA6;\n",
              "    }\n",
              "\n",
              "    [theme=dark] .colab-df-convert {\n",
              "      background-color: #3B4455;\n",
              "      fill: #D2E3FC;\n",
              "    }\n",
              "\n",
              "    [theme=dark] .colab-df-convert:hover {\n",
              "      background-color: #434B5C;\n",
              "      box-shadow: 0px 1px 3px 1px rgba(0, 0, 0, 0.15);\n",
              "      filter: drop-shadow(0px 1px 2px rgba(0, 0, 0, 0.3));\n",
              "      fill: #FFFFFF;\n",
              "    }\n",
              "  </style>\n",
              "\n",
              "      <script>\n",
              "        const buttonEl =\n",
              "          document.querySelector('#df-9b9d24c5-ba57-476d-a12f-829555a2e070 button.colab-df-convert');\n",
              "        buttonEl.style.display =\n",
              "          google.colab.kernel.accessAllowed ? 'block' : 'none';\n",
              "\n",
              "        async function convertToInteractive(key) {\n",
              "          const element = document.querySelector('#df-9b9d24c5-ba57-476d-a12f-829555a2e070');\n",
              "          const dataTable =\n",
              "            await google.colab.kernel.invokeFunction('convertToInteractive',\n",
              "                                                     [key], {});\n",
              "          if (!dataTable) return;\n",
              "\n",
              "          const docLinkHtml = 'Like what you see? Visit the ' +\n",
              "            '<a target=\"_blank\" href=https://colab.research.google.com/notebooks/data_table.ipynb>data table notebook</a>'\n",
              "            + ' to learn more about interactive tables.';\n",
              "          element.innerHTML = '';\n",
              "          dataTable['output_type'] = 'display_data';\n",
              "          await google.colab.output.renderOutput(dataTable, element);\n",
              "          const docLink = document.createElement('div');\n",
              "          docLink.innerHTML = docLinkHtml;\n",
              "          element.appendChild(docLink);\n",
              "        }\n",
              "      </script>\n",
              "    </div>\n",
              "  </div>\n",
              "  "
            ]
          },
          "metadata": {},
          "execution_count": 65
        }
      ]
    },
    {
      "cell_type": "markdown",
      "source": [
        "# Customer acquisition by year"
      ],
      "metadata": {
        "id": "QywE923GeCOw"
      }
    },
    {
      "cell_type": "code",
      "source": [
        "import matplotlib.pyplot as plt\n",
        "# membuat feature baru\n",
        "df['Year_First_Transaction'] = df['First_Transaction'].dt.year\n",
        "df['Year_Last_Transaction'] = df['Last_Transaction'].dt.year\n",
        "\n",
        "# group\n",
        "df_year = df.groupby('Year_First_Transaction')['Customer_ID'].count()\n",
        "df_year.plot(x='Year_First_Transaction', y='Customer_ID', kind='bar', title='Graph of Customer Acquition')\n",
        "plt.xlabel('Year_First_Transaction')\n",
        "plt.ylabel('Year_First_Transaction')\n",
        "plt.show()"
      ],
      "metadata": {
        "colab": {
          "base_uri": "https://localhost:8080/",
          "height": 312
        },
        "id": "rVIoyX54ecff",
        "outputId": "93444b9d-4d6b-4f79-85f6-40c667fa7106"
      },
      "execution_count": 66,
      "outputs": [
        {
          "output_type": "display_data",
          "data": {
            "text/plain": [
              "<Figure size 432x288 with 1 Axes>"
            ],
            "image/png": "[encoded data removed]"
          },
          "metadata": {
            "needs_background": "light"
          }
        }
      ]
    },
    {
      "cell_type": "markdown",
      "source": [
        "# Transaction by year"
      ],
      "metadata": {
        "id": "YrjKYEvbi1lN"
      }
    },
    {
      "cell_type": "code",
      "source": [
        "df_transaction = df.groupby('Year_First_Transaction')['Count_Transaction'].sum()\n",
        "df_transaction.plot(x='Year_First_Transaction', y='Count_Transaction', kind='bar', title='Graph of Transaction Customer')\n",
        "plt.xlabel('Year_First_Transaction')\n",
        "plt.ylabel('Num_of_Transaction')\n",
        "plt.tight_layout()\n",
        "plt.show()"
      ],
      "metadata": {
        "colab": {
          "base_uri": "https://localhost:8080/",
          "height": 297
        },
        "id": "7E8HxH17i-L-",
        "outputId": "16e0f3a9-cfd2-42b9-dbb2-e6f531dcb308"
      },
      "execution_count": 67,
      "outputs": [
        {
          "output_type": "display_data",
          "data": {
            "text/plain": [
              "<Figure size 432x288 with 1 Axes>"
            ],
            "image/png": "[encoded data removed]"
          },
          "metadata": {
            "needs_background": "light"
          }
        }
      ]
    },
    {
      "cell_type": "markdown",
      "source": [
        "# Average transaction amount by year"
      ],
      "metadata": {
        "id": "yFsykxkBjEcO"
      }
    },
    {
      "cell_type": "code",
      "source": [
        "import seaborn as sns\n",
        "\n",
        "df_product = df.groupby(['Product', 'Year_First_Transaction']).mean().reset_index()\n",
        "sns.pointplot(data=df_product, x='Year_First_Transaction', y='Average_Transaction_Amount', hue='Product')\n",
        "plt.show()"
      ],
      "metadata": {
        "colab": {
          "base_uri": "https://localhost:8080/",
          "height": 291
        },
        "id": "lP-jWp4BkPC7",
        "outputId": "7a47fabe-a75a-4f4b-9a29-c10f1785b783"
      },
      "execution_count": 68,
      "outputs": [
        {
          "output_type": "display_data",
          "data": {
            "text/plain": [
              "<Figure size 432x288 with 1 Axes>"
            ],
            "image/png": "[encoded data removed]"
          },
          "metadata": {
            "needs_background": "light"
          }
        }
      ]
    },
    {
      "cell_type": "code",
      "source": [
        "df_product"
      ],
      "metadata": {
        "colab": {
          "base_uri": "https://localhost:8080/",
          "height": 645
        },
        "id": "qNEBSjpLmecv",
        "outputId": "158d394c-d088-47d3-ccf8-eac6d2ac9b79"
      },
      "execution_count": 69,
      "outputs": [
        {
          "output_type": "execute_result",
          "data": {
            "text/plain": [
              "   Product  Year_First_Transaction    Customer_ID  Average_Transaction_Amount  \\\n",
              "0     Baju                    2017   99973.327529                1.490890e+06   \n",
              "1     Baju                    2018  188857.666496                1.570201e+06   \n",
              "2     Baju                    2019  281390.361868                1.383645e+06   \n",
              "3    Jaket                    2014   30906.745455                1.467937e+06   \n",
              "4    Jaket                    2015   43482.506832                1.296265e+06   \n",
              "5    Jaket                    2016   76570.356631                1.317344e+06   \n",
              "6    Jaket                    2017  138036.387196                1.369034e+06   \n",
              "7    Jaket                    2018  374795.205008                1.419074e+06   \n",
              "8    Jaket                    2019  542531.441905                1.447536e+06   \n",
              "9   Sepatu                    2013    7534.270109                1.396499e+06   \n",
              "10  Sepatu                    2014   29113.134471                1.427063e+06   \n",
              "11  Sepatu                    2015   46516.566937                1.428235e+06   \n",
              "12  Sepatu                    2016   82167.792674                1.425938e+06   \n",
              "13  Sepatu                    2017  148189.343671                1.407275e+06   \n",
              "14  Sepatu                    2018  432510.260492                1.346824e+06   \n",
              "15  Sepatu                    2019  657597.546419                1.338180e+06   \n",
              "16     Tas                    2017  113059.338861                1.109583e+06   \n",
              "17     Tas                    2018  310500.010428                1.337614e+06   \n",
              "18     Tas                    2019  465109.549550                1.287529e+06   \n",
              "\n",
              "    Count_Transaction  Year_Last_Transaction  \n",
              "0            3.157546            2017.151741  \n",
              "1            2.175475            2018.026167  \n",
              "2            1.871595            2019.000000  \n",
              "3           22.747727            2015.827273  \n",
              "4           21.789130            2016.603106  \n",
              "5           11.341306            2016.681180  \n",
              "6            6.292709            2017.265146  \n",
              "7            2.830617            2018.034700  \n",
              "8            1.999048            2019.000000  \n",
              "9           22.993049            2014.892751  \n",
              "10          34.445060            2016.230173  \n",
              "11          28.357330            2016.611978  \n",
              "12          18.692337            2016.844482  \n",
              "13          11.378145            2017.383532  \n",
              "14           3.718432            2018.053152  \n",
              "15           1.843501            2019.000000  \n",
              "16          12.130761            2017.447457  \n",
              "17           3.858784            2018.053199  \n",
              "18           2.156757            2019.000000  "
            ],
            "text/html": [
              "\n",
              "  <div id=\"df-bb112917-e4a1-497c-b8b9-16a8b651785b\">\n",
              "    <div class=\"colab-df-container\">\n",
              "      <div>\n",
              "<style scoped>\n",
              "    .dataframe tbody tr th:only-of-type {\n",
              "        vertical-align: middle;\n",
              "    }\n",
              "\n",
              "    .dataframe tbody tr th {\n",
              "        vertical-align: top;\n",
              "    }\n",
              "\n",
              "    .dataframe thead th {\n",
              "        text-align: right;\n",
              "    }\n",
              "</style>\n",
              "<table border=\"1\" class=\"dataframe\">\n",
              "  <thead>\n",
              "    <tr style=\"text-align: right;\">\n",
              "      <th></th>\n",
              "      <th>Product</th>\n",
              "      <th>Year_First_Transaction</th>\n",
              "      <th>Customer_ID</th>\n",
              "      <th>Average_Transaction_Amount</th>\n",
              "      <th>Count_Transaction</th>\n",
              "      <th>Year_Last_Transaction</th>\n",
              "    </tr>\n",
              "  </thead>\n",
              "  <tbody>\n",
              "    <tr>\n",
              "      <th>0</th>\n",
              "      <td>Baju</td>\n",
              "      <td>2017</td>\n",
              "      <td>99973.327529</td>\n",
              "      <td>1.490890e+06</td>\n",
              "      <td>3.157546</td>\n",
              "      <td>2017.151741</td>\n",
              "    </tr>\n",
              "    <tr>\n",
              "      <th>1</th>\n",
              "      <td>Baju</td>\n",
              "      <td>2018</td>\n",
              "      <td>188857.666496</td>\n",
              "      <td>1.570201e+06</td>\n",
              "      <td>2.175475</td>\n",
              "      <td>2018.026167</td>\n",
              "    </tr>\n",
              "    <tr>\n",
              "      <th>2</th>\n",
              "      <td>Baju</td>\n",
              "      <td>2019</td>\n",
              "      <td>281390.361868</td>\n",
              "      <td>1.383645e+06</td>\n",
              "      <td>1.871595</td>\n",
              "      <td>2019.000000</td>\n",
              "    </tr>\n",
              "    <tr>\n",
              "      <th>3</th>\n",
              "      <td>Jaket</td>\n",
              "      <td>2014</td>\n",
              "      <td>30906.745455</td>\n",
              "      <td>1.467937e+06</td>\n",
              "      <td>22.747727</td>\n",
              "      <td>2015.827273</td>\n",
              "    </tr>\n",
              "    <tr>\n",
              "      <th>4</th>\n",
              "      <td>Jaket</td>\n",
              "      <td>2015</td>\n",
              "      <td>43482.506832</td>\n",
              "      <td>1.296265e+06</td>\n",
              "      <td>21.789130</td>\n",
              "      <td>2016.603106</td>\n",
              "    </tr>\n",
              "    <tr>\n",
              "      <th>5</th>\n",
              "      <td>Jaket</td>\n",
              "      <td>2016</td>\n",
              "      <td>76570.356631</td>\n",
              "      <td>1.317344e+06</td>\n",
              "      <td>11.341306</td>\n",
              "      <td>2016.681180</td>\n",
              "    </tr>\n",
              "    <tr>\n",
              "      <th>6</th>\n",
              "      <td>Jaket</td>\n",
              "      <td>2017</td>\n",
              "      <td>138036.387196</td>\n",
              "      <td>1.369034e+06</td>\n",
              "      <td>6.292709</td>\n",
              "      <td>2017.265146</td>\n",
              "    </tr>\n",
              "    <tr>\n",
              "      <th>7</th>\n",
              "      <td>Jaket</td>\n",
              "      <td>2018</td>\n",
              "      <td>374795.205008</td>\n",
              "      <td>1.419074e+06</td>\n",
              "      <td>2.830617</td>\n",
              "      <td>2018.034700</td>\n",
              "    </tr>\n",
              "    <tr>\n",
              "      <th>8</th>\n",
              "      <td>Jaket</td>\n",
              "      <td>2019</td>\n",
              "      <td>542531.441905</td>\n",
              "      <td>1.447536e+06</td>\n",
              "      <td>1.999048</td>\n",
              "      <td>2019.000000</td>\n",
              "    </tr>\n",
              "    <tr>\n",
              "      <th>9</th>\n",
              "      <td>Sepatu</td>\n",
              "      <td>2013</td>\n",
              "      <td>7534.270109</td>\n",
              "      <td>1.396499e+06</td>\n",
              "      <td>22.993049</td>\n",
              "      <td>2014.892751</td>\n",
              "    </tr>\n",
              "    <tr>\n",
              "      <th>10</th>\n",
              "      <td>Sepatu</td>\n",
              "      <td>2014</td>\n",
              "      <td>29113.134471</td>\n",
              "      <td>1.427063e+06</td>\n",
              "      <td>34.445060</td>\n",
              "      <td>2016.230173</td>\n",
              "    </tr>\n",
              "    <tr>\n",
              "      <th>11</th>\n",
              "      <td>Sepatu</td>\n",
              "      <td>2015</td>\n",
              "      <td>46516.566937</td>\n",
              "      <td>1.428235e+06</td>\n",
              "      <td>28.357330</td>\n",
              "      <td>2016.611978</td>\n",
              "    </tr>\n",
              "    <tr>\n",
              "      <th>12</th>\n",
              "      <td>Sepatu</td>\n",
              "      <td>2016</td>\n",
              "      <td>82167.792674</td>\n",
              "      <td>1.425938e+06</td>\n",
              "      <td>18.692337</td>\n",
              "      <td>2016.844482</td>\n",
              "    </tr>\n",
              "    <tr>\n",
              "      <th>13</th>\n",
              "      <td>Sepatu</td>\n",
              "      <td>2017</td>\n",
              "      <td>148189.343671</td>\n",
              "      <td>1.407275e+06</td>\n",
              "      <td>11.378145</td>\n",
              "      <td>2017.383532</td>\n",
              "    </tr>\n",
              "    <tr>\n",
              "      <th>14</th>\n",
              "      <td>Sepatu</td>\n",
              "      <td>2018</td>\n",
              "      <td>432510.260492</td>\n",
              "      <td>1.346824e+06</td>\n",
              "      <td>3.718432</td>\n",
              "      <td>2018.053152</td>\n",
              "    </tr>\n",
              "    <tr>\n",
              "      <th>15</th>\n",
              "      <td>Sepatu</td>\n",
              "      <td>2019</td>\n",
              "      <td>657597.546419</td>\n",
              "      <td>1.338180e+06</td>\n",
              "      <td>1.843501</td>\n",
              "      <td>2019.000000</td>\n",
              "    </tr>\n",
              "    <tr>\n",
              "      <th>16</th>\n",
              "      <td>Tas</td>\n",
              "      <td>2017</td>\n",
              "      <td>113059.338861</td>\n",
              "      <td>1.109583e+06</td>\n",
              "      <td>12.130761</td>\n",
              "      <td>2017.447457</td>\n",
              "    </tr>\n",
              "    <tr>\n",
              "      <th>17</th>\n",
              "      <td>Tas</td>\n",
              "      <td>2018</td>\n",
              "      <td>310500.010428</td>\n",
              "      <td>1.337614e+06</td>\n",
              "      <td>3.858784</td>\n",
              "      <td>2018.053199</td>\n",
              "    </tr>\n",
              "    <tr>\n",
              "      <th>18</th>\n",
              "      <td>Tas</td>\n",
              "      <td>2019</td>\n",
              "      <td>465109.549550</td>\n",
              "      <td>1.287529e+06</td>\n",
              "      <td>2.156757</td>\n",
              "      <td>2019.000000</td>\n",
              "    </tr>\n",
              "  </tbody>\n",
              "</table>\n",
              "</div>\n",
              "      <button class=\"colab-df-convert\" onclick=\"convertToInteractive('df-bb112917-e4a1-497c-b8b9-16a8b651785b')\"\n",
              "              title=\"Convert this dataframe to an interactive table.\"\n",
              "              style=\"display:none;\">\n",
              "        \n",
              "  <svg xmlns=\"http://www.w3.org/2000/svg\" height=\"24px\"viewBox=\"0 0 24 24\"\n",
              "       width=\"24px\">\n",
              "    <path d=\"M0 0h24v24H0V0z\" fill=\"none\"/>\n",
              "    <path d=\"M18.56 5.44l.94 2.06.94-2.06 2.06-.94-2.06-.94-.94-2.06-.94 2.06-2.06.94zm-11 1L8.5 8.5l.94-2.06 2.06-.94-2.06-.94L8.5 2.5l-.94 2.06-2.06.94zm10 10l.94 2.06.94-2.06 2.06-.94-2.06-.94-.94-2.06-.94 2.06-2.06.94z\"/><path d=\"M17.41 7.96l-1.37-1.37c-.4-.4-.92-.59-1.43-.59-.52 0-1.04.2-1.43.59L10.3 9.45l-7.72 7.72c-.78.78-.78 2.05 0 2.83L4 21.41c.39.39.9.59 1.41.59.51 0 1.02-.2 1.41-.59l7.78-7.78 2.81-2.81c.8-.78.8-2.07 0-2.86zM5.41 20L4 18.59l7.72-7.72 1.47 1.35L5.41 20z\"/>\n",
              "  </svg>\n",
              "      </button>\n",
              "      \n",
              "  <style>\n",
              "    .colab-df-container {\n",
              "      display:flex;\n",
              "      flex-wrap:wrap;\n",
              "      gap: 12px;\n",
              "    }\n",
              "\n",
              "    .colab-df-convert {\n",
              "      background-color: #E8F0FE;\n",
              "      border: none;\n",
              "      border-radius: 50%;\n",
              "      cursor: pointer;\n",
              "      display: none;\n",
              "      fill: #1967D2;\n",
              "      height: 32px;\n",
              "      padding: 0 0 0 0;\n",
              "      width: 32px;\n",
              "    }\n",
              "\n",
              "    .colab-df-convert:hover {\n",
              "      background-color: #E2EBFA;\n",
              "      box-shadow: 0px 1px 2px rgba(60, 64, 67, 0.3), 0px 1px 3px 1px rgba(60, 64, 67, 0.15);\n",
              "      fill: #174EA6;\n",
              "    }\n",
              "\n",
              "    [theme=dark] .colab-df-convert {\n",
              "      background-color: #3B4455;\n",
              "      fill: #D2E3FC;\n",
              "    }\n",
              "\n",
              "    [theme=dark] .colab-df-convert:hover {\n",
              "      background-color: #434B5C;\n",
              "      box-shadow: 0px 1px 3px 1px rgba(0, 0, 0, 0.15);\n",
              "      filter: drop-shadow(0px 1px 2px rgba(0, 0, 0, 0.3));\n",
              "      fill: #FFFFFF;\n",
              "    }\n",
              "  </style>\n",
              "\n",
              "      <script>\n",
              "        const buttonEl =\n",
              "          document.querySelector('#df-bb112917-e4a1-497c-b8b9-16a8b651785b button.colab-df-convert');\n",
              "        buttonEl.style.display =\n",
              "          google.colab.kernel.accessAllowed ? 'block' : 'none';\n",
              "\n",
              "        async function convertToInteractive(key) {\n",
              "          const element = document.querySelector('#df-bb112917-e4a1-497c-b8b9-16a8b651785b');\n",
              "          const dataTable =\n",
              "            await google.colab.kernel.invokeFunction('convertToInteractive',\n",
              "                                                     [key], {});\n",
              "          if (!dataTable) return;\n",
              "\n",
              "          const docLinkHtml = 'Like what you see? Visit the ' +\n",
              "            '<a target=\"_blank\" href=https://colab.research.google.com/notebooks/data_table.ipynb>data table notebook</a>'\n",
              "            + ' to learn more about interactive tables.';\n",
              "          element.innerHTML = '';\n",
              "          dataTable['output_type'] = 'display_data';\n",
              "          await google.colab.output.renderOutput(dataTable, element);\n",
              "          const docLink = document.createElement('div');\n",
              "          docLink.innerHTML = docLinkHtml;\n",
              "          element.appendChild(docLink);\n",
              "        }\n",
              "      </script>\n",
              "    </div>\n",
              "  </div>\n",
              "  "
            ]
          },
          "metadata": {},
          "execution_count": 69
        }
      ]
    },
    {
      "cell_type": "markdown",
      "source": [
        "# Proporsi churned customer untuk setiap produk"
      ],
      "metadata": {
        "id": "SGLQqH3Bmutu"
      }
    },
    {
      "cell_type": "code",
      "source": [
        "# pivot_table\n",
        "df_piv = df.pivot_table(index='is_churn',\n",
        "               columns='Product',\n",
        "               values='Customer_ID',\n",
        "               aggfunc='count',\n",
        "               fill_value=0)\n",
        "\n",
        "plot_product = df_piv.count().sort_values(ascending=False).head(5).index\n",
        "\n",
        "# plot pie chart\n",
        "df_piv = df_piv.reindex(columns=plot_product)\n",
        "df_piv.plot.pie(subplots=True,\n",
        "                figsize=(10,7),\n",
        "                layout=(-1,2),\n",
        "                autopct='%1.0f%%',\n",
        "                title='Propotion Churn by Product')\n",
        "plt.tight_layout()\n",
        "plt.show()"
      ],
      "metadata": {
        "colab": {
          "base_uri": "https://localhost:8080/",
          "height": 514
        },
        "id": "kN8u709gnK-G",
        "outputId": "2fc46d94-a03a-4510-cb33-548f4766df1e"
      },
      "execution_count": 70,
      "outputs": [
        {
          "output_type": "display_data",
          "data": {
            "text/plain": [
              "<Figure size 720x504 with 4 Axes>"
            ],
            "image/png": "[encoded data removed]"
          },
          "metadata": {}
        }
      ]
    },
    {
      "cell_type": "markdown",
      "source": [
        "# Distribusi kategorisasi count transaction"
      ],
      "metadata": {
        "id": "B_07k581njPc"
      }
    },
    {
      "cell_type": "code",
      "source": [
        "plt.clf()\n",
        "# Kategorisasi jumlah transaksi\n",
        "def func(row):\n",
        "    if row['Count_Transaction'] == 1:\n",
        "        val = '1. 1'\n",
        "    elif (row['Count_Transaction'] > 1 and row['Count_Transaction'] <= 3):\n",
        "        val ='2.2-3'\n",
        "    elif (row['Count_Transaction'] > 3 and row['Count_Transaction'] <= 6):\n",
        "        val ='3.4-6'\n",
        "    elif (row['Count_Transaction'] > 6 and row['Count_Transaction'] <= 10):\n",
        "        val ='4.7-10'\n",
        "    else:\n",
        "        val ='5.>10'\n",
        "    return val\n",
        "# Tambahkan kolom baru\n",
        "df['Count_Transaction_Group'] = df.apply(func, axis=1)\n",
        "\n",
        "df_year = df.groupby(['Count_Transaction_Group'])['Customer_ID'].count()\n",
        "df_year.plot(x='Count_Transaction_Group', y='customer_ID', kind='bar', title='Customer Distribution by Count Transaction Group')\n",
        "plt.xlabel('Count_Transaction_Group')\n",
        "plt.ylabel('Num_of_Customer')\n",
        "plt.tight_layout()\n",
        "plt.show()"
      ],
      "metadata": {
        "colab": {
          "base_uri": "https://localhost:8080/",
          "height": 297
        },
        "id": "qB_jhqa1w8zZ",
        "outputId": "630fa33b-024d-4279-8f07-96e9051b4f64"
      },
      "execution_count": 71,
      "outputs": [
        {
          "output_type": "display_data",
          "data": {
            "text/plain": [
              "<Figure size 432x288 with 1 Axes>"
            ],
            "image/png": "[encoded data removed]"
          },
          "metadata": {
            "needs_background": "light"
          }
        }
      ]
    },
    {
      "cell_type": "markdown",
      "source": [
        "# Distribusi kategorisasi average transaction amount"
      ],
      "metadata": {
        "id": "qQTYOIhUylTS"
      }
    },
    {
      "cell_type": "code",
      "source": [
        "# Kategorisasi rata-rata besar transaksi\n",
        "def f(row):\n",
        "    if (row['Average_Transaction_Amount'] >= 100000 and row['Average_Transaction_Amount'] <= 250000):\n",
        "        val ='1. 100.000 - 250.000'\n",
        "    elif (row['Average_Transaction_Amount'] > 250000) and row['Average_Transaction_Amount'] <= 500000:\n",
        "        val ='2. >250.000 - 500.000'\n",
        "    elif (row['Average_Transaction_Amount'] > 500000 and row['Average_Transaction_Amount'] <= 750000):\n",
        "        val = '3.>500.000 - 750.000'\n",
        "    elif (row['Average_Transaction_Amount'] > 750000 and row['Average_Transaction_Amount'] <= 1000000):\n",
        "        val = '4.>750.000 - 1.000.000'\n",
        "    elif (row['Average_Transaction_Amount'] > 1000000 and row['Average_Transaction_Amount'] <= 2500000):\n",
        "        val = '5.>1.000.000 - 2.500.000'\n",
        "    elif (row['Average_Transaction_Amount'] > 2500000 and row['Average_Transaction_Amount'] <= 5000000):\n",
        "        val = '6.>2.500.000 - 5.000.000'\n",
        "    elif (row['Average_Transaction_Amount'] > 5000000 and row['Average_Transaction_Amount'] <= 10000000):\n",
        "        val = '7.>5.000.000 - 10.000.000'\n",
        "    else:\n",
        "        val = '8.>10.000.000'\n",
        "    return val\n",
        "# Tambahkan kolom baru\n",
        "df['Average_Transaction_Amount_Group'] = df.apply(f, axis=1)\n",
        "\n",
        "df_year = df.groupby(['Average_Transaction_Amount_Group'])['Customer_ID'].count()\n",
        "df_year.plot(x='Average_Transaction_Amount_Group', y='Customer_ID', kind='bar', title='Customer Distribution by Average Transaction Amount Group')\n",
        "plt.xlabel('Average_Transaction_Amount_Group')\n",
        "plt.ylabel('Num_of_Customer')\n",
        "plt.tight_layout()\n",
        "plt.show()\n"
      ],
      "metadata": {
        "colab": {
          "base_uri": "https://localhost:8080/",
          "height": 297
        },
        "id": "HRS3tpE7yn1e",
        "outputId": "4f573b00-23ba-4204-84f7-7b82a4180a99"
      },
      "execution_count": 72,
      "outputs": [
        {
          "output_type": "display_data",
          "data": {
            "text/plain": [
              "<Figure size 432x288 with 1 Axes>"
            ],
            "image/png": "[encoded data removed]"
          },
          "metadata": {
            "needs_background": "light"
          }
        }
      ]
    },
    {
      "cell_type": "markdown",
      "source": [
        "# Feature Columns dan Target"
      ],
      "metadata": {
        "id": "TlXneYsm22Ou"
      }
    },
    {
      "cell_type": "code",
      "source": [
        "import pandas as pd\n",
        "# Feature column: Year_Diff\n",
        "df['Year_Diff'] = df['Year_Last_Transaction'] - df['Year_First_Transaction']\n",
        "\n",
        "# Nama-nama feature columns\n",
        "feature_columns = ['Average_Transaction_Amount', 'Count_Transaction', 'Year_Diff']\n",
        "\n",
        "# Features variable\n",
        "X = df[feature_columns] \n",
        "\n",
        "# Target variable\n",
        "y = df['is_churn'] "
      ],
      "metadata": {
        "id": "1-BiOD2p-wW2"
      },
      "execution_count": 73,
      "outputs": []
    },
    {
      "cell_type": "markdown",
      "source": [
        "# Split X dan y ke dalam bagian training dan testing"
      ],
      "metadata": {
        "id": "p7qazOdBFUoo"
      }
    },
    {
      "cell_type": "code",
      "source": [
        "from sklearn.model_selection import train_test_split\n",
        "\n",
        "X_train, X_test, y_train, y_test = train_test_split(X, y, test_size=0.25, random_state=0)"
      ],
      "metadata": {
        "id": "s0N6LjMgFXGY"
      },
      "execution_count": 74,
      "outputs": []
    },
    {
      "cell_type": "markdown",
      "source": [
        "# Train, predict dan evaluate"
      ],
      "metadata": {
        "id": "vwREIz_EFk-_"
      }
    },
    {
      "cell_type": "code",
      "source": [
        "from sklearn.linear_model import LogisticRegression\n",
        "from sklearn.metrics import confusion_matrix\n",
        "\n",
        "# Inisiasi model logreg\n",
        "logreg = LogisticRegression()\n",
        "\n",
        "# fit the model with data\n",
        "logreg.fit(X_train, y_train)\n",
        "\n",
        "# Predict model\n",
        "y_pred = logreg.predict(X_test)\n",
        "\n",
        "# Evaluasi model menggunakan confusion matrix\n",
        "cnf_matrix = confusion_matrix(y_test, y_pred)\n",
        "print('Confusion Matrix:\\n', cnf_matrix)"
      ],
      "metadata": {
        "id": "d3aMVkaGGFRm"
      },
      "execution_count": null,
      "outputs": []
    },
    {
      "cell_type": "markdown",
      "source": [
        "# Visualisasi Confusion Matrix"
      ],
      "metadata": {
        "id": "WQtKPdHNKQpm"
      }
    },
    {
      "cell_type": "code",
      "source": [
        "# import required modules\n",
        "import numpy as np\n",
        "import matplotlib.pyplot as plt\n",
        "import seaborn as sns\n",
        "\n",
        "plt.clf()\n",
        "# name  of classes\n",
        "class_names = [0, 1] \n",
        "fig, ax = plt.subplots()\n",
        "\n",
        "tick_marks = np.arange(len(class_names))\n",
        "plt.xticks(tick_marks, class_names)\n",
        "plt.yticks(tick_marks, class_names)\n",
        "\n",
        "# create heatmap\n",
        "sns.heatmap(pd.DataFrame(cnf_matrix), annot=True, cmap='YlGnBu', fmt='g')\n",
        "ax.xaxis.set_label_position('top')\n",
        "plt.title('Confusion matrix', y=1.1)\n",
        "plt.ylabel('Actual')\n",
        "plt.xlabel('Predicted')\n",
        "plt.tight_layout()\n",
        "plt.show()"
      ],
      "metadata": {
        "id": "1LBAqCruGVEO"
      },
      "execution_count": null,
      "outputs": []
    },
    {
      "cell_type": "markdown",
      "source": [
        "# Accuracy, Precision, dan Recall"
      ],
      "metadata": {
        "id": "glHpCk33LJtJ"
      }
    },
    {
      "cell_type": "code",
      "source": [
        "from sklearn.metrics import accuracy_score, Precision_score, recall_score\n",
        "\n",
        "#Menghitung Accuracy, Precision, dan Recall\n",
        "print('Accuracy :', accuracy_score(y_test, y_pred))\n",
        "print('Precision:', Precision_score(y_test, y_pred, average='micro'))\n",
        "print('Recall   :', recall_score(y_test, y_pred, average='micro'))"
      ],
      "metadata": {
        "id": "LzGTO2BrLHA5"
      },
      "execution_count": null,
      "outputs": []
    }
  ]
}